{
 "cells": [
  {
   "cell_type": "code",
   "execution_count": 47,
   "metadata": {},
   "outputs": [
    {
     "name": "stdout",
     "output_type": "stream",
     "text": [
      "       DATE  TAVG  TMAX  TMIN\n",
      "0  19080101   NaN   2.0 -37.0\n",
      "1  19080102   NaN   6.0 -26.0\n",
      "2  19080103   NaN   7.0 -27.0\n",
      "3  19080104   NaN  -3.0 -27.0\n",
      "4  19080105   NaN   4.0 -36.0\n",
      "5  19080106   NaN   7.0  -1.0\n",
      "6  19080107   NaN   8.0  -3.0\n",
      "7  19080108   NaN   3.0  -9.0\n",
      "8  19080109   NaN   1.0 -25.0\n",
      "9  19080110   NaN -10.0 -32.0\n"
     ]
    },
    {
     "data": {
      "text/plain": [
       "'import padas, numpy, matplotlib for doing excersise, change -9999 to NaN, and reading only usefull columns( date, tavg, tmax, tmin), also skip the fow with\\n---- indix =1 \\ni always print head of data to check if it seems right'"
      ]
     },
     "execution_count": 47,
     "metadata": {},
     "output_type": "execute_result"
    }
   ],
   "source": [
    "import pandas as pd\n",
    "import numpy as np\n",
    "import matplotlib.pyplot as plt\n",
    "from datetime import datetime\n",
    "\n",
    "data = pd.read_csv(r'data/2315676.txt', na_values=-9999, delim_whitespace=True, usecols=['DATE','TAVG','TMAX','TMIN'],skiprows=[1])\n",
    "print(data.head(10))\n",
    "\"\"\"import padas, numpy, matplotlib for doing excersise, change -9999 to NaN, and reading only usefull columns( date, tavg, tmax, tmin), also skip the row with\n",
    "---- indix =1 \n",
    "i always print head of data to check if it seems right\"\"\""
   ]
  },
  {
   "cell_type": "code",
   "execution_count": 48,
   "metadata": {},
   "outputs": [
    {
     "name": "stdout",
     "output_type": "stream",
     "text": [
      "       DATE  TAVG  TMAX  TMIN  average\n",
      "0  19080101 -17.5   2.0 -37.0    -17.5\n",
      "1  19080102 -10.0   6.0 -26.0    -10.0\n",
      "2  19080103 -10.0   7.0 -27.0    -10.0\n",
      "3  19080104 -15.0  -3.0 -27.0    -15.0\n",
      "4  19080105 -16.0   4.0 -36.0    -16.0\n",
      "5  19080106   3.0   7.0  -1.0      3.0\n",
      "6  19080107   2.5   8.0  -3.0      2.5\n",
      "7  19080108  -3.0   3.0  -9.0     -3.0\n",
      "8  19080109 -12.0   1.0 -25.0    -12.0\n",
      "9  19080110 -21.0 -10.0 -32.0    -21.0\n"
     ]
    },
    {
     "data": {
      "text/plain": [
       "' because there are so many value NaN in column, TVAG, i created a new column for temperature average named average.\\nreplace NaN values in TAVG by value in average column'"
      ]
     },
     "execution_count": 48,
     "metadata": {},
     "output_type": "execute_result"
    }
   ],
   "source": [
    "data['average'] = data[['TMAX','TMIN']].mean(axis=1)\n",
    "data['TAVG'].fillna(data['average'], inplace=True)\n",
    "print(data.head(10)) \n",
    "\"\"\" because there are so many value NaN in column, TVAG, i created a new column for temperature average named average.\n",
    "replace NaN values in TAVG by value in average column\"\"\""
   ]
  },
  {
   "cell_type": "code",
   "execution_count": 49,
   "metadata": {},
   "outputs": [
    {
     "data": {
      "text/plain": [
       "' def a function that convers F to C by formular c = (F-32)/1.8'"
      ]
     },
     "execution_count": 49,
     "metadata": {},
     "output_type": "execute_result"
    }
   ],
   "source": [
    "def convert_to_c(fer:float):\n",
    "    return (fer - 32)/1.8\n",
    "\"\"\" def a function that convers F to C by formular c = (F-32)/1.8\"\"\"\n",
    "    "
   ]
  },
  {
   "cell_type": "code",
   "execution_count": 50,
   "metadata": {},
   "outputs": [
    {
     "name": "stdout",
     "output_type": "stream",
     "text": [
      "       DATE  TAVG  TMAX  TMIN  average     TAVG_C\n",
      "0  19080101 -17.5   2.0 -37.0    -17.5 -27.500000\n",
      "1  19080102 -10.0   6.0 -26.0    -10.0 -23.333333\n",
      "2  19080103 -10.0   7.0 -27.0    -10.0 -23.333333\n",
      "3  19080104 -15.0  -3.0 -27.0    -15.0 -26.111111\n",
      "4  19080105 -16.0   4.0 -36.0    -16.0 -26.666667\n",
      "5  19080106   3.0   7.0  -1.0      3.0 -16.111111\n",
      "6  19080107   2.5   8.0  -3.0      2.5 -16.388889\n",
      "7  19080108  -3.0   3.0  -9.0     -3.0 -19.444444\n",
      "8  19080109 -12.0   1.0 -25.0    -12.0 -24.444444\n",
      "9  19080110 -21.0 -10.0 -32.0    -21.0 -29.444444\n",
      "41065\n"
     ]
    }
   ],
   "source": [
    "data['TAVG_C'] = data['TAVG'].apply(convert_to_c)\n",
    "\"\"\" using function convert to c to convert avage to c as column TAVG_C\"\"\"\n",
    "\n",
    "print(data.head(10))\n",
    "print(len(data))"
   ]
  },
  {
   "cell_type": "code",
   "execution_count": 51,
   "metadata": {},
   "outputs": [
    {
     "name": "stdout",
     "output_type": "stream",
     "text": [
      "            DATE  TAVG  TMAX  TMIN  average     TAVG_C  year  month\n",
      "41055 2020-09-28  47.0  52.0  42.0     47.0   8.333333  2020      9\n",
      "41056 2020-09-29  49.0  58.0   NaN     58.0   9.444444  2020      9\n",
      "41057 2020-09-30  48.0  55.0  38.0     46.5   8.888889  2020      9\n",
      "41058 2020-10-01  51.0  53.0   NaN     53.0  10.555556  2020     10\n",
      "41059 2020-10-02  50.0  53.0  47.0     50.0  10.000000  2020     10\n",
      "41060 2020-10-03  47.0  51.0   NaN     51.0   8.333333  2020     10\n",
      "41061 2020-10-04  43.0  47.0  37.0     42.0   6.111111  2020     10\n",
      "41062 2020-10-05  42.0   NaN  37.0     37.0   5.555556  2020     10\n",
      "41063 2020-10-06  45.0  46.0  43.0     44.5   7.222222  2020     10\n",
      "41064 2020-10-07  47.0  50.0  44.0     47.0   8.333333  2020     10\n"
     ]
    },
    {
     "data": {
      "text/plain": [
       "' i used the function to_datetime to convert the column DATE to date time data, i also using the function dt.year to have new column year \\nfrom column DATE, and function dt.month to have new column month from column DATE'"
      ]
     },
     "execution_count": 51,
     "metadata": {},
     "output_type": "execute_result"
    }
   ],
   "source": [
    "data['DATE'] = pd.to_datetime(data['DATE'], format='%Y%m%d')\n",
    "data['year'] = data['DATE'].dt.year\n",
    "data['month'] = data['DATE'].dt.month\n",
    "print(data.tail(10))\n",
    "\n",
    "\"\"\" i used the function to_datetime to convert the column DATE to date time data, i also using the function dt.year to have new column year \n",
    "from column DATE, and function dt.month to have new column month from column DATE\"\"\""
   ]
  },
  {
   "cell_type": "code",
   "execution_count": 52,
   "metadata": {},
   "outputs": [
    {
     "data": {
      "text/plain": [
       "' i built the function season to classify season accoring the month'"
      ]
     },
     "execution_count": 52,
     "metadata": {},
     "output_type": "execute_result"
    }
   ],
   "source": [
    "def seasons(month: int):\n",
    "    if month <=2 or month == 12:\n",
    "        return 'Winter'\n",
    "    elif month >= 3 and month <= 5:\n",
    "        return 'Spring'\n",
    "    elif month >= 6 and month <= 8:\n",
    "        return 'Summer'\n",
    "    elif month >= 9 and month <= 11:\n",
    "        return 'Autumn'\n",
    "\"\"\" i built the function season to classify season accoring the month\"\"\"  "
   ]
  },
  {
   "cell_type": "code",
   "execution_count": 53,
   "metadata": {},
   "outputs": [
    {
     "name": "stdout",
     "output_type": "stream",
     "text": [
      "        DATE  TAVG  TMAX  TMIN  average     TAVG_C  year  month  season\n",
      "0 1908-01-01 -17.5   2.0 -37.0    -17.5 -27.500000  1908      1  Winter\n",
      "1 1908-01-02 -10.0   6.0 -26.0    -10.0 -23.333333  1908      1  Winter\n",
      "2 1908-01-03 -10.0   7.0 -27.0    -10.0 -23.333333  1908      1  Winter\n",
      "3 1908-01-04 -15.0  -3.0 -27.0    -15.0 -26.111111  1908      1  Winter\n",
      "4 1908-01-05 -16.0   4.0 -36.0    -16.0 -26.666667  1908      1  Winter\n",
      "5 1908-01-06   3.0   7.0  -1.0      3.0 -16.111111  1908      1  Winter\n",
      "6 1908-01-07   2.5   8.0  -3.0      2.5 -16.388889  1908      1  Winter\n",
      "7 1908-01-08  -3.0   3.0  -9.0     -3.0 -19.444444  1908      1  Winter\n",
      "8 1908-01-09 -12.0   1.0 -25.0    -12.0 -24.444444  1908      1  Winter\n",
      "9 1908-01-10 -21.0 -10.0 -32.0    -21.0 -29.444444  1908      1  Winter\n"
     ]
    }
   ],
   "source": [
    "data['season'] = data['month'].apply(seasons)\n",
    "\"\"\" i created the new column season which using the function seasons for column month\"\"\"\n",
    "print(data.head(10))"
   ]
  },
  {
   "cell_type": "code",
   "execution_count": 54,
   "metadata": {},
   "outputs": [
    {
     "name": "stdout",
     "output_type": "stream",
     "text": [
      "   year  season     TAVG_C\n",
      "0  1908  Autumn  -1.895604\n",
      "1  1908  Spring  -2.267512\n",
      "2  1908  Summer  11.515700\n",
      "3  1908  Winter -11.978022\n",
      "4  1909  Autumn  -1.422466\n",
      "5  1909  Spring  -5.682367\n",
      "6  1909  Summer  11.814614\n",
      "7  1909  Winter -11.354938\n",
      "8  1910  Autumn  -2.157407\n",
      "9  1910  Spring  -1.407407\n"
     ]
    }
   ],
   "source": [
    "\n",
    "mean_seasons= data.groupby(['year', 'season'])['TAVG_C'].mean().reset_index()\n",
    "\"\"\" i created a new data frame mean_seasons to calculate a mean of all seasons in everyyear, and also used the function reset_index() to reset the index of new dataframe\"\"\"\n",
    "\n",
    "print(mean_seasons.head(10))\n"
   ]
  },
  {
   "cell_type": "code",
   "execution_count": 55,
   "metadata": {},
   "outputs": [
    {
     "name": "stdout",
     "output_type": "stream",
     "text": [
      "452\n"
     ]
    }
   ],
   "source": [
    "mean_seasons_1951_1980 = mean_seasons.loc[(mean_seasons['year'] >= 1951) & (mean_seasons['year'] <= 1980)].reset_index()\n",
    "\"\"\" i created a new data frame from dataframe mean_seasons that has only data from year 1951 to 1980, and seret the index\"\"\"\n",
    "del mean_seasons_1951_1980['index']\n",
    "\"\"\" i delete the column index that is from the dataframe mean_seasons because i don't need it\"\n",
    "print(mean_seasons_1951_1980.head(10))\"\"\"\n",
    "print(len(mean_seasons))"
   ]
  },
  {
   "cell_type": "code",
   "execution_count": 56,
   "metadata": {},
   "outputs": [
    {
     "name": "stdout",
     "output_type": "stream",
     "text": [
      "   season     TAVG_C\n",
      "0  Autumn  -0.466446\n",
      "1  Spring  -2.001760\n",
      "2  Summer  12.460925\n",
      "3  Winter -12.880182\n"
     ]
    }
   ],
   "source": [
    "avg_seasons = mean_seasons_1951_1980 = data.groupby(['season'])['TAVG_C'].mean().reset_index()\n",
    "\"\"\" i created the new data frame avg_seasons to calculate the  the arage temperature from 1951 to 1980\"\"\"\n",
    "print(avg_seasons.head(10))"
   ]
  },
  {
   "cell_type": "code",
   "execution_count": 57,
   "metadata": {},
   "outputs": [
    {
     "name": "stdout",
     "output_type": "stream",
     "text": [
      "   year  season     TAVG_C   anomaly\n",
      "0  1908  Autumn  -1.895604 -1.429159\n",
      "1  1908  Spring  -2.267512 -0.265752\n",
      "2  1908  Summer  11.515700 -0.945224\n",
      "3  1908  Winter -11.978022  0.902160\n",
      "4  1909  Autumn  -1.422466 -0.956021\n",
      "5  1909  Spring  -5.682367 -3.680607\n",
      "6  1909  Summer  11.814614 -0.646311\n",
      "7  1909  Winter -11.354938  1.525243\n",
      "8  1910  Autumn  -2.157407 -1.690962\n",
      "9  1910  Spring  -1.407407  0.594353\n"
     ]
    }
   ],
   "source": [
    "mean_seasons['anomaly'] = 0.0\n",
    "for i in range(0, 452):\n",
    "    if mean_seasons.at[i, 'season'] == 'Autumn':        \n",
    "        mean_seasons.at[i,'anomaly'] = (mean_seasons.at[i,'TAVG_C'] - avg_seasons.at[0,'TAVG_C'])\n",
    "        \n",
    "    if mean_seasons.at[i, 'season'] == 'Spring':        \n",
    "        mean_seasons.at[i,'anomaly'] = (mean_seasons.at[i,'TAVG_C'] - avg_seasons.at[1,'TAVG_C'])\n",
    "        \n",
    "    if mean_seasons.at[i, 'season'] == 'Summer':        \n",
    "        mean_seasons.at[i,'anomaly'] = (mean_seasons.at[i,'TAVG_C'] - avg_seasons.at[2,'TAVG_C'])\n",
    "        \n",
    "    if mean_seasons.at[i, 'season'] == 'Winter':        \n",
    "        mean_seasons.at[i,'anomaly'] = (mean_seasons.at[i,'TAVG_C'] - avg_seasons.at[3,'TAVG_C'])\n",
    "\"\"\" i created the new column 'anomaly' to calculate the anamalies eat year, using also the for loop to calculate it\n",
    "\"\"\"\n",
    "print(mean_seasons.head(10))"
   ]
  },
  {
   "cell_type": "code",
   "execution_count": 58,
   "metadata": {},
   "outputs": [
    {
     "data": {
      "text/plain": [
       "\" i created the new dataframes: winter, summer, spring, and autumn' that contain onlys colukmn season and  anomaly column\""
      ]
     },
     "execution_count": 58,
     "metadata": {},
     "output_type": "execute_result"
    }
   ],
   "source": [
    "winter = mean_seasons.loc[mean_seasons['season']=='Winter']\n",
    "winter = winter[['year','anomaly']]\n",
    "\n",
    "summer = mean_seasons.loc[mean_seasons['season']=='Summer']\n",
    "summer = summer[['year','anomaly']]\n",
    "\n",
    "spring = mean_seasons.loc[mean_seasons['season']=='Spring']\n",
    "spring = spring[['year','anomaly']]\n",
    "\n",
    "autumn = mean_seasons.loc[mean_seasons['season']=='Autumn']\n",
    "autumn = autumn[['year','anomaly']]\n",
    "\"\"\" i created the new dataframes: winter, summer, spring, and autumn' that contain onlys colukmn season and  anomaly column\"\"\""
   ]
  },
  {
   "cell_type": "code",
   "execution_count": 66,
   "metadata": {},
   "outputs": [
    {
     "ename": "SyntaxError",
     "evalue": "invalid syntax (4018427550.py, line 7)",
     "output_type": "error",
     "traceback": [
      "\u001b[0;36m  File \u001b[0;32m\"/tmp/ipykernel_77/4018427550.py\"\u001b[0;36m, line \u001b[0;32m7\u001b[0m\n\u001b[0;31m    winter.plot(ax =ax1,kind='line',x='year',y='anomaly', color='red', xlabel = 'Year', ylabel = 'Temperature anomaly (°C)', grid = True, title = 'Winter',xticks = range(1900:2030,0), yticks=(-15,-10,-5,0, 5,10,15,))\u001b[0m\n\u001b[0m                                                                                                                                                                              ^\u001b[0m\n\u001b[0;31mSyntaxError\u001b[0m\u001b[0;31m:\u001b[0m invalid syntax\n"
     ]
    }
   ],
   "source": [
    "fig, axs = plt.subplots(nrows=2, ncols=2, figsize=(12,10));\n",
    "ax1 = axs[0][0]\n",
    "ax2 = axs[0][1]\n",
    "ax3 = axs[1][0]\n",
    "ax4 = axs[1][1]\n",
    "\"\"\" how to locate 4 figures in one picture\"\"\"\n",
    "winter.plot(ax =ax1,kind='line',x='year',y='anomaly', color='red', xlabel = 'Year', ylabel = 'Temperature anomaly (°C)', grid = True, title = 'Winter',xticks = range[1900:2030,0], yticks=(-15,-10,-5,0, 5,10,15,))\n",
    "\"\"\" used keyword yticks to customize the range of temperature anomany column\"\"\"\n",
    "summer.plot(ax = ax3,kind='line',x='year',y='anomaly', color='green',xlabel = 'Year', ylabel = 'Temperature anomaly (°C)', grid = True, title = 'Summer',  yticks=(-15,-10,-5,0, 5,10,15,))\n",
    "spring.plot(ax = ax2, kind='line',x='year',y='anomaly', color='black', xlabel = 'Year', ylabel = 'Temperature anomaly (°C)', grid = True, title = 'Spring', yticks=(-15,-10,-5,0, 5,10,15,))\n",
    "autumn.plot(ax = ax4, kind='line',x='year',y='anomaly', color='orange', xlabel = 'Year', ylabel = 'Temperature anomaly (°C)', grid = True, title = 'Autumn', yticks=(-15,-10,-5,0, 5,10,15,))\n",
    "plt.savefig('im_done.png')\n",
    "\"\"\" save the figure as the name im done\"\"\""
   ]
  },
  {
   "cell_type": "code",
   "execution_count": null,
   "metadata": {},
   "outputs": [],
   "source": []
  },
  {
   "cell_type": "code",
   "execution_count": null,
   "metadata": {},
   "outputs": [],
   "source": []
  }
 ],
 "metadata": {
  "kernelspec": {
   "display_name": "Python 3 (ipykernel)",
   "language": "python",
   "name": "python3"
  },
  "language_info": {
   "codemirror_mode": {
    "name": "ipython",
    "version": 3
   },
   "file_extension": ".py",
   "mimetype": "text/x-python",
   "name": "python",
   "nbconvert_exporter": "python",
   "pygments_lexer": "ipython3",
   "version": "3.8.10"
  }
 },
 "nbformat": 4,
 "nbformat_minor": 4
}
